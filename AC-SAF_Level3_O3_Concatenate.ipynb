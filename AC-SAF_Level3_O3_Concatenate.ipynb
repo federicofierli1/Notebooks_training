{
 "cells": [
  {
   "cell_type": "markdown",
   "metadata": {},
   "source": [
    "## Read multiple AC-SAF files\n",
    "\n",
    "Often datasets come as an ensemble of files representative of a single timestep. Xarray in Python has good options for dealing with multidimensional arrays and coordinates. \n",
    "Here we report an example for AC-SAF tropical tropospheric ozone dataset\n",
    "https://acsaf.org/products/oto_o3tropo_cs.html\n",
    "\n",
    "Each file contains a 2D field representative of a single month.\n",
    "The whole dataset can be downloaded from the AC-SAF database at https://acsaf.org/offline_access.html\n"
   ]
  },
  {
   "cell_type": "code",
   "execution_count": 1,
   "metadata": {
    "collapsed": true,
    "scrolled": false
   },
   "outputs": [],
   "source": [
    "import xarray as xr\n",
    "import pandas as pd\n",
    "import matplotlib.pyplot as plt\n",
    "import os, os.path\n",
    "\n",
    "# path joining version for other paths\n",
    "path = 'DATA/O3_L3'\n",
    "n_files=(len([name for name in os.listdir(path) if os.path.isfile(os.path.join(path, name))]))"
   ]
  },
  {
   "cell_type": "markdown",
   "metadata": {},
   "source": [
    "We now read the files in a row and create a new coordinate time."
   ]
  },
  {
   "cell_type": "code",
   "execution_count": 5,
   "metadata": {
    "collapsed": true
   },
   "outputs": [],
   "source": [
    "data=xr.open_mfdataset(\"DATA/O3_L3/*.nc\",concat_dim=pd.Index(range(1,n_files),name='Time'))\n",
    "prod=xr.open_mfdataset(\"DATA/O3_L3/*.nc\",concat_dim=pd.Index(range(1,n_files+1),name='Time'),group=\"PRODUCT\")\n",
    "data[\"tropospheric_O3\"]=prod.tropospheric_O3"
   ]
  },
  {
   "cell_type": "markdown",
   "metadata": {},
   "source": [
    "Finally, we select a single location with latitude and longitude index. The plot is hence a timeserie."
   ]
  },
  {
   "cell_type": "code",
   "execution_count": 6,
   "metadata": {},
   "outputs": [
    {
     "data": {
      "text/plain": [
       "[<matplotlib.lines.Line2D at 0x117053390>]"
      ]
     },
     "execution_count": 6,
     "metadata": {},
     "output_type": "execute_result"
    }
   ],
   "source": [
    "data1d=data.tropospheric_O3.isel(latitude=15,longitude=1)\n",
    "data1d.plot()"
   ]
  },
  {
   "cell_type": "code",
   "execution_count": null,
   "metadata": {
    "collapsed": true
   },
   "outputs": [],
   "source": []
  }
 ],
 "metadata": {
  "kernelspec": {
   "display_name": "Python 2",
   "language": "python",
   "name": "python2"
  },
  "language_info": {
   "codemirror_mode": {
    "name": "ipython",
    "version": 2
   },
   "file_extension": ".py",
   "mimetype": "text/x-python",
   "name": "python",
   "nbconvert_exporter": "python",
   "pygments_lexer": "ipython2",
   "version": "2.7.15"
  }
 },
 "nbformat": 4,
 "nbformat_minor": 2
}
